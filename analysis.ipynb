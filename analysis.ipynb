{
 "cells": [
  {
   "cell_type": "code",
   "execution_count": 15,
   "metadata": {
    "collapsed": true
   },
   "outputs": [],
   "source": [
    "import pandas as pd\n",
    "import csv\n",
    "import cv2\n",
    "import numpy as np"
   ]
  },
  {
   "cell_type": "code",
   "execution_count": 2,
   "metadata": {
    "collapsed": true
   },
   "outputs": [],
   "source": [
    "import matplotlib.pyplot as plt"
   ]
  },
  {
   "cell_type": "code",
   "execution_count": 6,
   "metadata": {
    "collapsed": false
   },
   "outputs": [],
   "source": [
    "df = pd.read_csv('data/driving_log.csv', header=None)"
   ]
  },
  {
   "cell_type": "code",
   "execution_count": 50,
   "metadata": {
    "collapsed": false
   },
   "outputs": [],
   "source": [
    "lines = []\n",
    "\n",
    "with open('data/driving_log.csv') as csvfile:\n",
    "    reader = csv.reader(csvfile)\n",
    "    for line in reader:\n",
    "        lines.append(line)\n",
    "\n",
    "images = []\n",
    "measurements = []\n",
    "for line in lines:\n",
    "    source_path = line[0]\n",
    "    filename = source_path.split('/')[-1]\n",
    "    current_path = './data/IMG/' + filename\n",
    "    image = cv2.imread(current_path)\n",
    "    images.append(image)\n",
    "    images.append(cv2.flip(image,1))\n",
    "    measurement = float(line[3])\n",
    "    measurements.append(measurement)\n",
    "    measurements.append(measurement*-1.0)\n",
    "    \n",
    "X_train = np.array(images)\n",
    "y_train = np.array(measurements)"
   ]
  },
  {
   "cell_type": "code",
   "execution_count": 49,
   "metadata": {
    "collapsed": false
   },
   "outputs": [
    {
     "data": {
      "image/png": "[encoded data removed]",
      "text/plain": [
       "<matplotlib.figure.Figure at 0x13cf53da0>"
      ]
     },
     "metadata": {},
     "output_type": "display_data"
    }
   ],
   "source": [
    "plt.hist(y_train, bins=np.arange(-1.05,1.05,0.1)-0.1)\n",
    "plt.show()"
   ]
  },
  {
   "cell_type": "code",
   "execution_count": 51,
   "metadata": {
    "collapsed": false
   },
   "outputs": [
    {
     "data": {
      "image/png": "[encoded data removed]",
      "text/plain": [
       "<matplotlib.figure.Figure at 0x13d2dc828>"
      ]
     },
     "metadata": {},
     "output_type": "display_data"
    }
   ],
   "source": [
    "plt.hist(y_train, bins=np.arange(-1.05,1.05,0.1)-0.1)\n",
    "plt.show()"
   ]
  },
  {
   "cell_type": "code",
   "execution_count": 54,
   "metadata": {
    "collapsed": false
   },
   "outputs": [],
   "source": [
    "images = []\n",
    "measurements = []\n",
    "\n",
    "for line in lines:\n",
    "\tsource_path_center = line[0]\n",
    "\tsource_path_left = line[1] \n",
    "\tsource_path_right = line[2]\n",
    "\tfilename_center = source_path_center.split('/')[-1]\n",
    "\tfilename_left = source_path_left.split('/')[-1]\n",
    "\tfilename_right = source_path_right.split('/')[-1]\n",
    "\n",
    "\tcurrent_path_center = './data/IMG/' + filename_center\n",
    "\tcurrent_path_left = './data/IMG/' + filename_left\n",
    "\tcurrent_path_right = './data/IMG/' + filename_right\n",
    "\n",
    "\tcorrection = 0.2\n",
    "\tmeasurement_center = float(line[3])\n",
    "\tmeasurement_left = measurement_center + correction\n",
    "\tmeasurement_right = measurement_center - correction\n",
    "\n",
    "\timage_center = cv2.imread(current_path_center)\n",
    "\timage_left = cv2.imread(current_path_left)\n",
    "\timage_right = cv2.imread(current_path_right)\n",
    "\n",
    "\timages.append(image_center)\n",
    "\timages.append(image_left)\n",
    "\timages.append(image_right)\n",
    "\n",
    "\tmeasurements.append(measurement_center)\n",
    "\tmeasurements.append(measurement_left)\n",
    "\tmeasurements.append(measurement_right)\n",
    "\n",
    "\timages.append(cv2.flip(image_center,1))\n",
    "\timages.append(cv2.flip(image_left,1))\n",
    "\timages.append(cv2.flip(image_right,1))\n",
    "\n",
    "\tmeasurements.append(measurement_center * -1)\n",
    "\tmeasurements.append(measurement_left * -1)\n",
    "\tmeasurements.append(measurement_right * -1)"
   ]
  },
  {
   "cell_type": "code",
   "execution_count": 55,
   "metadata": {
    "collapsed": true
   },
   "outputs": [],
   "source": [
    "X_train = np.array(images)\n",
    "y_train = np.array(measurements)"
   ]
  },
  {
   "cell_type": "code",
   "execution_count": 57,
   "metadata": {
    "collapsed": false
   },
   "outputs": [
    {
     "data": {
      "image/png": "[encoded data removed]",
      "text/plain": [
       "<matplotlib.figure.Figure at 0x12eb1c898>"
      ]
     },
     "metadata": {},
     "output_type": "display_data"
    }
   ],
   "source": [
    "plt.hist(y_train, bins=np.arange(-1.05,1.05,0.05)-0.1)\n",
    "plt.show()"
   ]
  },
  {
   "cell_type": "code",
   "execution_count": null,
   "metadata": {
    "collapsed": true
   },
   "outputs": [],
   "source": []
  }
 ],
 "metadata": {
  "kernelspec": {
   "display_name": "Python 3",
   "language": "python",
   "name": "python3"
  },
  "language_info": {
   "codemirror_mode": {
    "name": "ipython",
    "version": 3
   },
   "file_extension": ".py",
   "mimetype": "text/x-python",
   "name": "python",
   "nbconvert_exporter": "python",
   "pygments_lexer": "ipython3",
   "version": "3.5.2"
  },
  "widgets": {
   "state": {},
   "version": "1.1.2"
  }
 },
 "nbformat": 4,
 "nbformat_minor": 2
}
